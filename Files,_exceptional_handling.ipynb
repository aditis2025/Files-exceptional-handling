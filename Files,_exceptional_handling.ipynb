{
  "nbformat": 4,
  "nbformat_minor": 0,
  "metadata": {
    "colab": {
      "provenance": []
    },
    "kernelspec": {
      "name": "python3",
      "display_name": "Python 3"
    },
    "language_info": {
      "name": "python"
    }
  },
  "cells": [
    {
      "cell_type": "markdown",
      "source": [
        "**Theory Questions**"
      ],
      "metadata": {
        "id": "uWYc9yx5j2OB"
      }
    },
    {
      "cell_type": "code",
      "execution_count": null,
      "metadata": {
        "id": "V7h02IDbjoW2"
      },
      "outputs": [],
      "source": [
        "#Q1 What is the difference between interpreted and compiled languages?\n",
        "#   Compiled Languages-- The source code is translated into machine code (binary) before execution using a compiler.\n",
        "#                        This generates a standalone executable file that can run on the target system without needing the original source code.\n",
        "#   Interpreted Languages-- The source code is read and executed line-by-line by an interpreter at runtime.\n",
        "#                           No separate compilation step—code runs directly from the source file."
      ]
    },
    {
      "cell_type": "code",
      "source": [
        "#Q2 What is exception handling in Python?\n",
        "#   Exception handling in Python is a mechanism that allows you to gracefully handle runtime errors, preventing your program from crashing unexpectedly. It is implemented using the try, except, else, and finally blocks."
      ],
      "metadata": {
        "id": "GryVt_hdkBGB"
      },
      "execution_count": null,
      "outputs": []
    },
    {
      "cell_type": "code",
      "source": [
        "#Q3 What is the purpose of the finally block in exception handling?\n",
        "#   The finally block in exception handling is used to define a section of code that will always execute, regardless of whether an exception occurs or not.\n",
        "#   It is commonly used for cleanup operations, such as closing files, releasing resources, or disconnecting from a database.\n",
        "\n"
      ],
      "metadata": {
        "id": "XOotJ_uHkBCm"
      },
      "execution_count": null,
      "outputs": []
    },
    {
      "cell_type": "code",
      "source": [
        "#Q4 What is logging in Python?\n",
        "#   Logging in Python is a way to track events that happen when software runs. It is used for debugging, monitoring, and recording important runtime information.\n",
        "#   The logging module in Python provides a flexible framework for creating log messages and handling them appropriately.\n",
        "\n"
      ],
      "metadata": {
        "id": "cAL_FiWjkBAS"
      },
      "execution_count": null,
      "outputs": []
    },
    {
      "cell_type": "code",
      "source": [
        "#Q5 What is the significance of the __del__ method in Python?\n",
        "#   The __del__ method is a destructor in Python, called when an object is about to be destroyed. It is primarily used for cleanup tasks, such as releasing resources like file handles, network connections, or memory."
      ],
      "metadata": {
        "id": "nKNjiV3WkA_B"
      },
      "execution_count": null,
      "outputs": []
    },
    {
      "cell_type": "code",
      "source": [
        "#Q6 What is the difference between import and from ... import in Python?\n",
        "#   Both import and from ... import are used to include external modules in your Python program, but they work slightly differently.\n",
        "#   Import-- The entire module is imported and to access functions or variables, you must use the module name as a prefix.\n",
        "#   from ... import-- Allows importing specific functions, classes, or variables and You can use them directly without the module name."
      ],
      "metadata": {
        "id": "FvXS0bfPkA8X"
      },
      "execution_count": null,
      "outputs": []
    },
    {
      "cell_type": "code",
      "source": [
        "#Q7 How can you handle multiple exceptions in Python?\n",
        "#   In Python, we can handle multiple exceptions using multiple except blocks, a single except block with a tuple, or a generic except block. Each approach is useful depending on the situation."
      ],
      "metadata": {
        "id": "htZ2JG90kA5t"
      },
      "execution_count": null,
      "outputs": []
    },
    {
      "cell_type": "code",
      "source": [
        "#Q8 What is the purpose of the with statement when handling files in Python?\n",
        "#   The with statement is used when working with files to ensure proper resource management. It automatically closes the file after the block of code inside with is executed, even if an exception occurs.\n",
        "#   This makes the code cleaner, safer, and more efficient."
      ],
      "metadata": {
        "id": "jN-nkLJwkA4R"
      },
      "execution_count": null,
      "outputs": []
    },
    {
      "cell_type": "code",
      "source": [
        "#Q9 What is the difference between multithreading and multiprocessing?\n",
        "#   Multithreading-- Multithreading allows multiple threads to run within the same process. Threads share the same memory space, making it efficient for I/O-bound tasks.\n",
        "#   Multiprocessing-- Multiprocessing creates multiple independent processes, each with its own memory space. These processes run in parallel on multiple CPU cores."
      ],
      "metadata": {
        "id": "QoaxArbxkA1i"
      },
      "execution_count": null,
      "outputs": []
    },
    {
      "cell_type": "code",
      "source": [
        "#Q10 What are the advantages of using logging in a program?\n",
        "#    Logging is a crucial tool in software development that helps with debugging, monitoring, and maintaining applications. some advantagesto use logging:\n",
        "#    -Debugging and Troubleshooting\n",
        "#    -Better than print() Statements\n",
        "#    -Log Files for Persistent Record-Keeping\n",
        "#    -Supports Logging in Multi-Threaded Applications"
      ],
      "metadata": {
        "id": "rdMCwgrpkAzE"
      },
      "execution_count": null,
      "outputs": []
    },
    {
      "cell_type": "code",
      "source": [
        "#Q11 What is memory management in Python?\n",
        "#   Memory management in Python involves allocating, tracking, and freeing memory efficiently to ensure optimal performance.\n",
        "#   Python handles memory automatically using dynamic memory allocation, garbage collection, and reference counting."
      ],
      "metadata": {
        "id": "BSsAPYm9kAwt"
      },
      "execution_count": null,
      "outputs": []
    },
    {
      "cell_type": "code",
      "source": [
        "#Q12 What are the basic steps involved in exception handling in Python?\n",
        "#    Exception handling in Python helps prevent program crashes by catching and managing errors during execution. The process involves four key steps:\n",
        "#    1. Try Block  2. Except Block  3. Else Block  4. Finally Block"
      ],
      "metadata": {
        "id": "HHExtGmxkAuO"
      },
      "execution_count": null,
      "outputs": []
    },
    {
      "cell_type": "code",
      "source": [
        "#Q13 Why is memory management important in Python?\n",
        "#    Memory management is crucial in Python to ensure efficient resource utilization, prevent memory leaks, and optimize program performance. Since Python handles memory automatically, understanding how it works can help developers, scalable, and bug-free applications."
      ],
      "metadata": {
        "id": "sndeL5uLkArh"
      },
      "execution_count": null,
      "outputs": []
    },
    {
      "cell_type": "code",
      "source": [
        "#Q14 What is the role of try and except in exception handling?\n",
        "#    Try Block--Try blocks are essential for handling runtime errors (Detects Errors) in Python. The try block contains code that might raise an exception. If no exception occurs, the program skips the except block.\n",
        "#    Except Block-- Except blocks are essential for handling runtime errors (Handles Errors) in Python. If an exception occurs inside try, Python jumps to the except block. Prevents the program from crashing by providing a graceful error message."
      ],
      "metadata": {
        "id": "Voh0fRU5kAos"
      },
      "execution_count": null,
      "outputs": []
    },
    {
      "cell_type": "code",
      "source": [
        "#Q15 How does Python's garbage collection system work?\n",
        "#    Python's garbage collection (GC) system is responsible for automatically managing memory by reclaiming unused objects and preventing memory leaks. It uses a combination of reference counting and cyclic garbage collection to free up memory."
      ],
      "metadata": {
        "id": "b0BNQ07BkAmE"
      },
      "execution_count": null,
      "outputs": []
    },
    {
      "cell_type": "code",
      "source": [
        "#Q16 What is the purpose of the else block in exception handling?\n",
        "#    The else block in Python exception handling is executed only if no exceptions occur in the try block. It is useful for separating error-prone code from success cases, making code more readable."
      ],
      "metadata": {
        "id": "cL_XB5rekAjH"
      },
      "execution_count": null,
      "outputs": []
    },
    {
      "cell_type": "code",
      "source": [
        "#Q17 What are the common logging levels in Python?\n",
        "#    Python’s built-in logging module provides different logging levels to categorize the importance of log messages. These levels help developers debug, monitor, and analyze applications efficiently."
      ],
      "metadata": {
        "id": "H00C4JStkAf-"
      },
      "execution_count": null,
      "outputs": []
    },
    {
      "cell_type": "code",
      "source": [
        "#Q18 What is the difference between os.fork() and multiprocessing in Python??\n",
        "#    Both os.fork() and the multiprocessing module are used to create new processes in Python, but they work differently.\n",
        "#    os.fork() is a UNIX/Linux-specific function (not available on Windows).It creates a child process by duplicating the parent process.The child process runs the same code as the parent but starts execution from the point of the fork() and the return value differs\n",
        "#    Multiprocessing Module is a high-Level API for Process Management. It works on both Windows and UNIX/Linux and uses the Process class to create new processes."
      ],
      "metadata": {
        "id": "xnt4NlxkkAdS"
      },
      "execution_count": null,
      "outputs": []
    },
    {
      "cell_type": "code",
      "source": [
        "#Q19 What is the importance of closing a file in Python?\n",
        "#    Closing a file in Python is crucial for efficient resource management and data integrity. When you open a file using open(), it remains open until explicitly closed with .close(), or automatically closed using a with statement."
      ],
      "metadata": {
        "id": "7TYdSZp0kAaI"
      },
      "execution_count": null,
      "outputs": []
    },
    {
      "cell_type": "code",
      "source": [
        "#Q20 What is the difference between file.read() and file.readline() in Python?\n",
        "#    file.read()-- Reads the Entire File or a Specified Number of Characters. If given a size argument, it reads up to that many characters.\n",
        "#    file.readline()-- Reads a Single Line at a Time. If called multiple times, it reads the next line."
      ],
      "metadata": {
        "id": "KbCR1ko5kAXI"
      },
      "execution_count": null,
      "outputs": []
    },
    {
      "cell_type": "code",
      "source": [
        "#Q21 What is the logging module in Python used for?\n",
        "#    The logging module in Python provides a flexible and efficient way to track events, errors, and system behavior in an application. It helps with debugging, monitoring, and auditing."
      ],
      "metadata": {
        "id": "d6jcmrlTkATx"
      },
      "execution_count": null,
      "outputs": []
    },
    {
      "cell_type": "code",
      "source": [
        "#Q22 What is the os module in Python used for in file handling?\n",
        "#    The os module in Python provides functions to interact with the operating system, especially for handling files and directories."
      ],
      "metadata": {
        "id": "SyKcgTbbkARM"
      },
      "execution_count": null,
      "outputs": []
    },
    {
      "cell_type": "code",
      "source": [
        "#Q23 What are the challenges associated with memory management in Python?\n",
        "#    Python has an automatic memory management system that includes garbage collection and reference counting. However, there are still several challenges that developers face when handling memory efficiently."
      ],
      "metadata": {
        "id": "LM6J2j5XkAO6"
      },
      "execution_count": null,
      "outputs": []
    },
    {
      "cell_type": "code",
      "source": [
        "#Q24  How do you raise an exception manually in Python?\n",
        "#     In Python, we can manually trigger an exception using the raise statement. This is useful for handling custom errors or enforcing constraints in your code."
      ],
      "metadata": {
        "id": "xgsUybSukAMR"
      },
      "execution_count": null,
      "outputs": []
    },
    {
      "cell_type": "code",
      "source": [
        "#Q25 Why is it important to use multithreading in certain applications?\n",
        "#    Multithreading is important in applications that require concurrent execution to improve performance, responsiveness, and resource utilization. It allows multiple threads to run in parallel, enhancing efficiency in specific scenarios."
      ],
      "metadata": {
        "id": "kNZE11xPkAJ6"
      },
      "execution_count": null,
      "outputs": []
    },
    {
      "cell_type": "markdown",
      "source": [
        "**Practical Question**"
      ],
      "metadata": {
        "id": "zyABPlLZvFLs"
      }
    },
    {
      "cell_type": "code",
      "source": [
        "#1 How can you open a file for writing in Python and write a string to it?\n",
        "\n",
        "file = open(\"example.txt\", \"w\")\n",
        "file.write(\"Hello, this is the first line!\")\n"
      ],
      "metadata": {
        "id": "Gxx1SZVikAHz"
      },
      "execution_count": null,
      "outputs": []
    },
    {
      "cell_type": "code",
      "source": [
        "#2 Write a Python program to read the contents of a file and print each line.\n",
        "\n",
        "with open(\"example.txt\", \"r\") as file:\n",
        "    for line in file:\n",
        "        print(line.strip())"
      ],
      "metadata": {
        "id": "VbQO8vFWkAFI"
      },
      "execution_count": null,
      "outputs": []
    },
    {
      "cell_type": "code",
      "source": [
        "#3 How would you handle a case where the file doesn't exist while trying to open it for reading?\n",
        "\n",
        "try:\n",
        "    with open(\"missing_file.txt\", \"r\") as file:\n",
        "        content = file.read()\n",
        "        print(content)\n",
        "except FileNotFoundError:\n",
        "    print(\"Error: The file does not exist!\")"
      ],
      "metadata": {
        "id": "cHHVCC3lkACj"
      },
      "execution_count": null,
      "outputs": []
    },
    {
      "cell_type": "code",
      "source": [
        "#4 Write a Python script that reads from one file and writes its content to another file.\n",
        "\n",
        "with open(\"source.txt\", \"r\") as source_file, open(\"destination.txt\", \"w\") as destination_file:\n",
        "    content = source_file.read()  # Read content from source\n",
        "    destination_file.write(content)  # Write content to destination\n",
        "\n",
        "print(\"File copied successfully!\")"
      ],
      "metadata": {
        "id": "0qLDzukfj__-"
      },
      "execution_count": null,
      "outputs": []
    },
    {
      "cell_type": "code",
      "source": [
        "#5 How would you catch and handle division by zero error in Python?\n",
        "\n",
        "try:\n",
        "    result = 10 / 0\n",
        "except ZeroDivisionError:\n",
        "    print(\"Error: Division by zero is not allowed!\")"
      ],
      "metadata": {
        "id": "GVOQkpfsj_82"
      },
      "execution_count": null,
      "outputs": []
    },
    {
      "cell_type": "code",
      "source": [
        "#6 Write a Python program that logs an error message to a log file when a division by zero exception occurs.\n",
        "\n",
        "import logging\n",
        "\n",
        "logging.basicConfig(filename=\"error.log\", level=logging.ERROR,\n",
        "                    format=\"%(asctime)s - %(levelname)s - %(message)s\")\n",
        "\n",
        "def safe_divide(a, b):\n",
        "    try:\n",
        "        return a / b\n",
        "    except ZeroDivisionError:\n",
        "        logging.error(\"Division by zero attempted (a=%s, b=%s)\", a, b)\n",
        "        return \"Error: Cannot divide by zero\"\n",
        "\n",
        "result = safe_divide(10, 0)\n",
        "print(result)  # Output: Error: Cannot divide by zero\n"
      ],
      "metadata": {
        "id": "gd7PQ8d4j_6V"
      },
      "execution_count": null,
      "outputs": []
    },
    {
      "cell_type": "code",
      "source": [
        "#7 How do you log information at different levels (INFO, ERROR, WARNING) in Python using the logging module?\n",
        "\n",
        "import logging\n",
        "\n",
        "logging.basicConfig(filename=\"app.log\", level=logging.DEBUG,\n",
        "                    format=\"%(asctime)s - %(levelname)s - %(message)s\")\n",
        "\n",
        "# Log messages at different levels\n",
        "logging.info(\"This is an info message.\")     # General program info\n",
        "logging.warning(\"This is a warning message.\") # Potential issue\n",
        "logging.error(\"This is an error message.\")   # Something went wrong"
      ],
      "metadata": {
        "id": "Aj0eY871j_1c"
      },
      "execution_count": null,
      "outputs": []
    },
    {
      "cell_type": "code",
      "source": [
        "#8 Write a program to handle a file opening error using exception handling.\n",
        "\n",
        "try:\n",
        "    with open(\"non_existent_file.txt\", \"r\") as file:\n",
        "        content = file.read()\n",
        "        print(content)\n",
        "\n",
        "except FileNotFoundError:\n",
        "    print(\"Error: The file does not exist!\")\n",
        "\n",
        "except PermissionError:\n",
        "    print(\"Error: Permission denied while accessing the file!\")\n",
        "\n",
        "except Exception as e:\n",
        "    print(f\"An unexpected error occurred: {e}\")"
      ],
      "metadata": {
        "id": "jgn7RaK7j_y_"
      },
      "execution_count": null,
      "outputs": []
    },
    {
      "cell_type": "code",
      "source": [
        "#9 How can you read a file line by line and store its content in a list in Python?\n",
        "\n",
        "lines = []\n",
        "with open(\"example.txt\", \"r\") as file:\n",
        "    for line in file:\n",
        "        lines.append(line.strip())\n",
        "\n",
        "print(lines)"
      ],
      "metadata": {
        "id": "O6tyIJPCj_wV"
      },
      "execution_count": null,
      "outputs": []
    },
    {
      "cell_type": "code",
      "source": [
        "#10  How can you append data to an existing file in Python?\n",
        "with open(\"example.txt\", \"a\") as file:\n",
        "    file.write(\"\\nThis is a new line added to the file.\")"
      ],
      "metadata": {
        "id": "DCyaoXqCj_sr"
      },
      "execution_count": null,
      "outputs": []
    },
    {
      "cell_type": "code",
      "source": [
        "#11 Write a Python program that uses a try-except block to handle an error when attempting to access a dictionary key that doesn't exist.\n",
        "\n",
        "student_scores = {\"Alice\": 85, \"Bob\": 92, \"Charlie\": 78}\n",
        "\n",
        "try:\n",
        "    score = student_scores[\"David\"]\n",
        "    print(f\"David's score: {score}\")\n",
        "except KeyError:\n",
        "    print(\"Error: The specified key does not exist in the dictionary\")\n"
      ],
      "metadata": {
        "id": "GZaikuPaj_pJ"
      },
      "execution_count": null,
      "outputs": []
    },
    {
      "cell_type": "code",
      "source": [
        "#12 Write a program that demonstrates using multiple except blocks to handle different types of exceptions.\n",
        "try:\n",
        "    num1 = int(input(\"Enter numerator: \"))\n",
        "    num2 = int(input(\"Enter denominator: \"))\n",
        "\n",
        "    result = num1 / num2\n",
        "\n",
        "    numbers = [10, 20, 30]\n",
        "    index = int(input(\"Enter list index (0-2): \"))\n",
        "    print(f\"Value at index {index}: {numbers[index]}\")\n",
        "\n",
        "except ZeroDivisionError:\n",
        "    print(\"Error: Division by zero is not allowed\")\n",
        "\n",
        "except ValueError:\n",
        "    print(\"Error: Invalid input! Please enter numeric values.\")\n",
        "\n",
        "except IndexError:\n",
        "    print(\"Error: Index out of range! Please enter a valid index.\")\n",
        "\n",
        "except Exception as e:\n",
        "    print(f\"An unexpected error occurred: {e}\")\n",
        "\n",
        "else:\n",
        "    print(f\"Division result: {result}\")\n",
        "\n",
        "finally:\n",
        "    print(\"Execution completed.\")"
      ],
      "metadata": {
        "id": "STiDsDUnj_k0"
      },
      "execution_count": null,
      "outputs": []
    },
    {
      "cell_type": "code",
      "source": [
        "#13 How would you check if a file exists before attempting to read it in Python?\n",
        "import os\n",
        "\n",
        "file_path = \"file.txt\"\n",
        "\n",
        "if os.path.exists(file_path):\n",
        "    with open(file_path, \"r\") as file:\n",
        "        content = file.read()\n",
        "        print(content)\n",
        "else:\n",
        "    print(\"Error: The file does not exist!\")\n",
        "\n"
      ],
      "metadata": {
        "id": "da2DJI3Gj_eR"
      },
      "execution_count": null,
      "outputs": []
    },
    {
      "cell_type": "code",
      "source": [
        "#14 Write a program that uses the logging module to log both informational and error messages.\n",
        "\n",
        "import logging\n",
        "\n",
        "\n",
        "logging.basicConfig(\n",
        "    filename=\"app.log\",\n",
        "    level=logging.DEBUG,\n",
        "    format=\"%(asctime)s - %(levelname)s - %(message)s\",\n",
        "    datefmt=\"%Y-%m-%d %H:%M:%S\"\n",
        ")\n",
        "\n",
        "logging.info(\"Application started successfully.\")\n",
        "\n",
        "try:\n",
        "\n",
        "    num1, num2 = 10, 0\n",
        "    result = num1 / num2  # This will cause a ZeroDivisionError\n",
        "    logging.info(f\"Division result: {result}\")\n",
        "\n",
        "except ZeroDivisionError:\n",
        "    logging.error(\"Error: Division by zero attempted!\")\n",
        "\n",
        "logging.info(\"Application finished execution.\")\n"
      ],
      "metadata": {
        "id": "RbVDfMIbj_YH"
      },
      "execution_count": null,
      "outputs": []
    },
    {
      "cell_type": "code",
      "source": [
        "#15 Write a Python program that prints the content of a file and handles the case when the file is empty.\n",
        "\n",
        "import os\n",
        "\n",
        "def read_and_print_file(file_path):\n",
        "    if not os.path.exists(file_path):\n",
        "        print(\"Error: The file does not exist!\")\n",
        "        return\n",
        "\n",
        "    with open(file_path, \"r\") as file:\n",
        "        content = file.read().strip()\n",
        "\n",
        "    if not content:\n",
        "        print(\"The file is empty.\")\n",
        "    else:\n",
        "        print(\"File Content:\\n\" + content)\n",
        "\n",
        "file_path = \"example.txt\"\n",
        "read_and_print_file(file_path)\n"
      ],
      "metadata": {
        "id": "unEnYx4Rj_SW"
      },
      "execution_count": null,
      "outputs": []
    },
    {
      "cell_type": "code",
      "source": [
        "#16 Demonstrate how to use memory profiling to check the memory usage of a small program?\n",
        "\n",
        "pip install memory_profiler\n",
        "\n",
        "from memory_profiler import profile\n",
        "\n",
        "@profile\n",
        "def create_large_list():\n",
        "    numbers = [i for i in range(1000000)]\n",
        "    return numbers\n",
        "\n",
        "if __name__ == \"__main__\":\n",
        "    create_large_list()"
      ],
      "metadata": {
        "id": "n4zTqAhkj_Hs"
      },
      "execution_count": null,
      "outputs": []
    },
    {
      "cell_type": "code",
      "source": [
        "#17 Write a Python program to create and write a list of numbers to a file, one number per line.\n",
        "def write_numbers_to_file(file_path, numbers):\n",
        "    \"\"\"Writes a list of numbers to a file, one number per line.\"\"\"\n",
        "    with open(file_path, \"w\") as file:\n",
        "        for number in numbers:\n",
        "            file.write(f\"{number}\\n\")\n",
        "\n",
        "numbers = list(range(1, 11))\n",
        "file_path = \"numbers.txt\"\n",
        "\n",
        "write_numbers_to_file(file_path, numbers)\n",
        "print(f\"Numbers written to {file_path} successfully!\")"
      ],
      "metadata": {
        "id": "J0O984QyVuHd"
      },
      "execution_count": null,
      "outputs": []
    },
    {
      "cell_type": "code",
      "source": [
        "#18  How would you implement a basic logging setup that logs to a file with rotation after 1MB?\n",
        "\n",
        "import logging\n",
        "from logging.handlers import RotatingFileHandler\n",
        "\n",
        "log_file = \"app.log\"\n",
        "log_formatter = \"%(asctime)s - %(levelname)s - %(message)s\"\n",
        "\n",
        "handler = RotatingFileHandler(log_file, maxBytes=1*1024*1024, backupCount=3)\n",
        "handler.setFormatter(logging.Formatter(log_formatter))\n",
        "\n",
        "logger = logging.getLogger(\"MyLogger\")\n",
        "logger.setLevel(logging.DEBUG)\n",
        "logger.addHandler(handler)\n",
        "\n",
        "logger.info(\"Application started\")\n",
        "for i in range(5000):\n",
        "    logger.debug(f\"Debug message {i}\")\n",
        "logger.error(\"An error occurred\")\n",
        "logger.info(\"Application finished\")\n"
      ],
      "metadata": {
        "id": "wMRS6REKVuD9"
      },
      "execution_count": null,
      "outputs": []
    },
    {
      "cell_type": "code",
      "source": [
        "#19 Write a program that handles both IndexError and KeyError using a try-except block?\n",
        "\n",
        "def handle_exceptions():\n",
        "    my_list = [10, 20, 30]\n",
        "    my_dict = {\"a\": 1, \"b\": 2}\n",
        "\n",
        "    try:\n",
        "        print(\"List value:\", my_list[5])\n",
        "\n",
        "        print(\"Dictionary value:\", my_dict[\"c\"])\n",
        "\n",
        "    except IndexError:\n",
        "        print(\"Error: List index out of range!\")\n",
        "\n",
        "    except KeyError:\n",
        "        print(\"Error: Dictionary key not found!\")\n",
        "\n",
        "    finally:\n",
        "        print(\"Execution completed.\")\n",
        "\n",
        "# Run the function\n",
        "handle_exceptions()"
      ],
      "metadata": {
        "id": "n9X8cduBVt9g"
      },
      "execution_count": null,
      "outputs": []
    },
    {
      "cell_type": "code",
      "source": [
        "#20 How would you open a file and read its contents using a context manager in Python?\n",
        "\n",
        "def read_file(file_path):\n",
        "    \"\"\"Reads the content of a file using a context manager.\"\"\"\n",
        "    try:\n",
        "        with open(file_path, \"r\", encoding=\"utf-8\") as file:\n",
        "            content = file.read()\n",
        "            print(\"File Content:\\n\", content)\n",
        "    except FileNotFoundError:\n",
        "        print(f\"Error: The file '{file_path}' does not exist.\")\n",
        "    except Exception as e:\n",
        "        print(f\"An unexpected error occurred: {e}\")\n",
        "\n",
        "file_path = \"example.txt\"\n",
        "read_file(file_path)\n"
      ],
      "metadata": {
        "id": "9o-sG9YtVt53"
      },
      "execution_count": null,
      "outputs": []
    },
    {
      "cell_type": "code",
      "source": [
        "#21 Write a Python program that reads a file and prints the number of occurrences of a specific word.\n",
        "\n",
        "def count_word_occurrences(file_path, target_word):\n",
        "    \"\"\"Counts the occurrences of a specific word in a file.\"\"\"\n",
        "    try:\n",
        "        with open(file_path, \"r\", encoding=\"utf-8\") as file:\n",
        "            content = file.read().lower()\n",
        "            words = content.split()\n",
        "            count = words.count(target_word.lower())\n",
        "            return count\n",
        "    except FileNotFoundError:\n",
        "        print(\"Error: File not found.\")\n",
        "        return None\n",
        "    except Exception as e:\n",
        "        print(f\"An unexpected error occurred: {e}\")\n",
        "        return None\n",
        "\n",
        "file_path = \"example.txt\"\n",
        "word_to_search = \"python\"\n",
        "occurrences = count_word_occurrences(file_path, word_to_search)\n",
        "\n",
        "if occurrences is not None:\n",
        "    print(f\"The word '{word_to_search}' appears {occurrences} times in the file.\")"
      ],
      "metadata": {
        "id": "bCvY8OI-Vt1X"
      },
      "execution_count": null,
      "outputs": []
    },
    {
      "cell_type": "code",
      "source": [
        "#22 How can you check if a file is empty before attempting to read its contents?\n",
        "\n",
        "import os\n",
        "\n",
        "def is_file_empty(file_path):\n",
        "    \"\"\"Checks if a file is empty based on its size.\"\"\"\n",
        "    return os.path.exists(file_path) and os.path.getsize(file_path) == 0\n",
        "\n",
        "file_path = \"example.txt\"\n",
        "\n",
        "if is_file_empty(file_path):\n",
        "    print(\"The file is empty.\")\n",
        "else:\n",
        "    with open(file_path, \"r\") as file:\n",
        "        content = file.read()\n",
        "        print(\"File Content:\\n\", content)"
      ],
      "metadata": {
        "id": "T0jNDG8nVtua"
      },
      "execution_count": null,
      "outputs": []
    },
    {
      "cell_type": "code",
      "source": [
        "#23  Write a Python program that writes to a log file when an error occurs during file handling.\n",
        "import logging\n",
        "\n",
        "logging.basicConfig(\n",
        "    filename=\"file_errors.log\",\n",
        "    level=logging.ERROR,\n",
        "    format=\"%(asctime)s - %(levelname)s - %(message)s\",\n",
        "    datefmt=\"%Y-%m-%d %H:%M:%S\"\n",
        ")\n",
        "\n",
        "def read_file(file_path):\n",
        "    \"\"\"Attempts to open and read a file, logging errors if any occur.\"\"\"\n",
        "    try:\n",
        "        with open(file_path, \"r\") as file:\n",
        "            content = file.read()\n",
        "            print(\"File Content:\\n\", content)\n",
        "    except FileNotFoundError:\n",
        "        logging.error(f\"FileNotFoundError: The file '{file_path}' does not exist.\")\n",
        "        print(\"Error: The file does not exist.\")\n",
        "    except PermissionError:\n",
        "        logging.error(f\"PermissionError: No permission to read '{file_path}'.\")\n",
        "        print(\"Error: No permission to access the file.\")\n",
        "    except Exception as e:\n",
        "        logging.error(f\"Unexpected Error: {e}\")\n",
        "        print(\"An unexpected error occurred.\")\n",
        "\n",
        "file_path = \"non_existent_file.txt\"\n",
        "read_file(file_path)\n"
      ],
      "metadata": {
        "id": "so5-Pu0YVtpL"
      },
      "execution_count": null,
      "outputs": []
    }
  ]
}